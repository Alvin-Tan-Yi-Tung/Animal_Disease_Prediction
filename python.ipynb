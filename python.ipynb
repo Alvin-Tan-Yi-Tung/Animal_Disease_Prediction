{
 "cells": [
  {
   "cell_type": "code",
   "execution_count": null,
   "metadata": {
    "vscode": {
     "languageId": "plaintext"
    }
   },
   "outputs": [],
   "source": [
    "import pandas as pd\n",
    "import numpy as np\n",
    "from sklearn.ensemble import RandomForestRegressor\n",
    "from sklearn.model_selection import train_test_split\n",
    "import joblib\n",
    "\n",
    "# === Step 1: Load Excel Data ===\n",
    "excel_path = \"Malaysia_Animal_Disease_Template(Copy).xlsx\"  # Make sure this file is in the same folder\n",
    "df = pd.read_excel(excel_path, sheet_name=\"Animal_Disease_Outbreaks_Data\")\n",
    "\n",
    "# === Step 2: Preprocess Data ===\n",
    "df = df.dropna(subset=[\"Start Date\"])\n",
    "df[\"Start Date\"] = pd.to_datetime(df[\"Start Date\"])\n",
    "df[\"Year\"] = df[\"Start Date\"].dt.year\n",
    "df[\"Month\"] = df[\"Start Date\"].dt.month\n",
    "\n",
    "# Group by year, month, and state to count number of outbreaks\n",
    "grouped = df.groupby([\"Year\", \"Month\", \"State\"]).size().reset_index(name=\"Outbreaks\")\n",
    "\n",
    "# One-hot encode the 'State' column\n",
    "df_encoded = pd.get_dummies(grouped, columns=[\"State\"])\n",
    "\n",
    "# === Step 3: Train AI Model ===\n",
    "X = df_encoded.drop(\"Outbreaks\", axis=1)\n",
    "y = df_encoded[\"Outbreaks\"]\n",
    "\n",
    "model = RandomForestRegressor(n_estimators=100, random_state=42)\n",
    "model.fit(X, y)\n",
    "\n",
    "# Optional: Save the model and features\n",
    "joblib.dump(model, \"outbreak_model.pkl\")\n",
    "joblib.dump(X.columns.tolist(), \"model_features.pkl\")\n",
    "\n",
    "print(\"✅ Model trained successfully!\")\n",
    "\n",
    "# === Step 4: Prediction Function ===\n",
    "def predict_outbreak(year, month, state):\n",
    "    # Load model and feature columns\n",
    "    model = joblib.load(\"outbreak_model.pkl\")\n",
    "    features = joblib.load(\"model_features.pkl\")\n",
    "\n",
    "    # Prepare input data\n",
    "    input_dict = {\"Year\": year, \"Month\": month}\n",
    "    for col in features:\n",
    "        if col.startswith(\"State_\"):\n",
    "            input_dict[col] = 1 if col == f\"State_{state}\" else 0\n",
    "\n",
    "    # Fill missing columns with 0\n",
    "    for col in features:\n",
    "        if col not in input_dict:\n",
    "            input_dict[col] = 0\n",
    "\n",
    "    input_df = pd.DataFrame([input_dict])[features]\n",
    "    prediction = model.predict(input_df)[0]\n",
    "    return round(prediction, 2)\n",
    "\n",
    "# === Example Usage ===\n",
    "year_input = 2025\n",
    "month_input = 7\n",
    "state_input = \"Selangor\"\n",
    "\n",
    "predicted_outbreaks = predict_outbreak(year_input, month_input, state_input)\n",
    "print(f\"📊 Predicted outbreaks in {state_input} ({year_input}-{month_input}): {predicted_outbreaks}\")\n"
   ]
  }
 ],
 "metadata": {
  "language_info": {
   "name": "python"
  }
 },
 "nbformat": 4,
 "nbformat_minor": 2
}
