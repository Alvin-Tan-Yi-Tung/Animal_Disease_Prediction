{
  "nbformat": 4,
  "nbformat_minor": 0,
  "metadata": {
    "colab": {
      "provenance": []
    },
    "kernelspec": {
      "name": "python3",
      "display_name": "Python 3"
    },
    "language_info": {
      "name": "python"
    }
  },
  "cells": [
    {
      "cell_type": "markdown",
      "source": [
        "### 1. Cloning the dataset"
      ],
      "metadata": {
        "id": "jI54PwEnXinX"
      }
    },
    {
      "cell_type": "code",
      "source": [
        "!git clone https://github.com/Alvin-Tan-Yi-Tung/Animal_Disease_Prediction.git"
      ],
      "metadata": {
        "colab": {
          "base_uri": "https://localhost:8080/"
        },
        "id": "FZfNCZ90_atc",
        "outputId": "cdad6e54-b8bd-4449-da5c-76cb279a2ad5"
      },
      "execution_count": 1,
      "outputs": [
        {
          "output_type": "stream",
          "name": "stdout",
          "text": [
            "Cloning into 'Animal_Disease_Prediction'...\n",
            "remote: Enumerating objects: 49, done.\u001b[K\n",
            "remote: Counting objects: 100% (49/49), done.\u001b[K\n",
            "remote: Compressing objects: 100% (34/34), done.\u001b[K\n",
            "remote: Total 49 (delta 18), reused 40 (delta 12), pack-reused 0 (from 0)\u001b[K\n",
            "Receiving objects: 100% (49/49), 249.29 KiB | 1.66 MiB/s, done.\n",
            "Resolving deltas: 100% (18/18), done.\n"
          ]
        }
      ]
    },
    {
      "cell_type": "markdown",
      "source": [
        "### 2. Import neccessary libraries"
      ],
      "metadata": {
        "id": "TIja6UfdXnMf"
      }
    },
    {
      "cell_type": "code",
      "source": [
        "import pandas as pd\n",
        "import numpy as np"
      ],
      "metadata": {
        "id": "9kcSCxvl_dpg"
      },
      "execution_count": 2,
      "outputs": []
    },
    {
      "cell_type": "markdown",
      "source": [
        "### Data Preparation"
      ],
      "metadata": {
        "id": "-L7gqESkXuJX"
      }
    },
    {
      "cell_type": "code",
      "source": [
        "import pandas as pd\n",
        "\n",
        "# Load the detailed outbreak report (Dataset 1)\n",
        "df_detailed = pd.read_csv('/content/Animal_Disease_Prediction/backend/Outbreak_Data.csv')\n",
        "\n",
        "# Load the aggregated outbreak counts (Dataset 2)\n",
        "# df_counts = pd.read_csv('/content/Animal_Disease_Prediction/backend/Total_Outbreaks_State.csv')\n",
        "\n",
        "# Merge both datasets on 'State' and 'Disease Type'\n",
        "# df_merged = pd.merge(df_detailed, df_counts, on=['State', 'Disease Type'], how='left')\n",
        "\n",
        "# Fill missing counts with zero (in case no historical count available)\n",
        "# df_merged['Count of State'] = df_merged['Count of State'].fillna(0)\n",
        "\n",
        "# Preview merged dataset\n",
        "# print(df_merged.head())\n",
        "print(df_detailed.head())\n"
      ],
      "metadata": {
        "colab": {
          "base_uri": "https://localhost:8080/"
        },
        "id": "E6WsGlFAnZZq",
        "outputId": "b8a1ff02-e249-4bc0-e860-2740c9bc3024"
      },
      "execution_count": 3,
      "outputs": [
        {
          "output_type": "stream",
          "name": "stdout",
          "text": [
            "   Reference Administrative divisions  \\\n",
            "0  ob_150996                   Sepang   \n",
            "1  ob_150997                   Sepang   \n",
            "2  ob_150998             Kuala Langat   \n",
            "3  ob_151002                   Sepang   \n",
            "4  ob_151003             Kuala Langat   \n",
            "\n",
            "                                    Location Epidemiological unit  \\\n",
            "0                LOT 3336 SG BELANKAN (S443)                 Farm   \n",
            "1            LOT 3330 SUNGAI BELANKAN (S445)                 Farm   \n",
            "2          NO.4,LORONG KUIL KG.TUMBUK (SE20)                 Farm   \n",
            "3  LOT 1871 LDG TUMBUK 42800 TG SEPAT (SE50)                 Farm   \n",
            "4                 LOT 1871 LDG TUMBUK (S130)                 Farm   \n",
            "\n",
            "   Number of outbreaks Start Date End Date     State      Report  \\\n",
            "0                    1  28/1/2025      NaN  Selangor  EVENT 4158   \n",
            "1                    1   4/2/2025      NaN  Selangor  EVENT 4158   \n",
            "2                    1   5/2/2025      NaN  Selangor  EVENT 4158   \n",
            "3                    1   7/2/2025      NaN  Selangor  EVENT 4158   \n",
            "4                    1   7/2/2025      NaN  Selangor  EVENT 4158   \n",
            "\n",
            "                Disease Type  \n",
            "0  African swine fever virus  \n",
            "1  African swine fever virus  \n",
            "2  African swine fever virus  \n",
            "3  African swine fever virus  \n",
            "4  African swine fever virus  \n"
          ]
        }
      ]
    },
    {
      "cell_type": "markdown",
      "source": [
        "### Data Preprocessing and data cleaning"
      ],
      "metadata": {
        "id": "sBAWcO1cX1TX"
      }
    },
    {
      "cell_type": "code",
      "source": [
        "import pandas as pd\n",
        "from sklearn.preprocessing import LabelEncoder\n",
        "\n",
        "# Load the merged dataset (from Step 1)\n",
        "df = pd.read_csv('/content/Animal_Disease_Prediction/backend/Outbreak_Data.csv')\n",
        "\n",
        "# Clean Dates\n",
        "df['Start Date'] = pd.to_datetime(df['Start Date'], format='%d/%m/%Y', errors='coerce')\n",
        "df = df.dropna(subset=['Start Date'])  # Remove rows with invalid dates"
      ],
      "metadata": {
        "id": "deTLhqMjonCE"
      },
      "execution_count": 7,
      "outputs": []
    },
    {
      "cell_type": "code",
      "source": [
        "# Remove any duplicate rows in the dataset\n",
        "print(\"Shape of the DataFrame before dropping duplicates:\", df.shape)\n",
        "\n",
        "df = df.drop_duplicates()\n",
        "\n",
        "print(\"Shape of the DataFrame after dropping duplicates:\", df.shape)"
      ],
      "metadata": {
        "colab": {
          "base_uri": "https://localhost:8080/"
        },
        "id": "QdIvTlhZMsVY",
        "outputId": "f6cef668-71a6-4736-a7fe-2145d1bb4d4f"
      },
      "execution_count": 8,
      "outputs": [
        {
          "output_type": "stream",
          "name": "stdout",
          "text": [
            "Shape of the DataFrame before dropping duplicates: (1396, 10)\n",
            "Shape of the DataFrame after dropping duplicates: (1396, 10)\n"
          ]
        }
      ]
    },
    {
      "cell_type": "code",
      "source": [
        "# Remove rows where key columns are missing (State, Disease Type, Start Date)\n",
        "df = df.dropna(subset=['State', 'Disease Type', 'Start Date'])\n",
        "\n",
        "print(\"Shape of the DataFrame after remove missing values:\", df.shape)"
      ],
      "metadata": {
        "colab": {
          "base_uri": "https://localhost:8080/"
        },
        "id": "gdA_xe2LPEmX",
        "outputId": "ea193a9c-24a0-47b2-dfea-9fcec2f93fb7"
      },
      "execution_count": 9,
      "outputs": [
        {
          "output_type": "stream",
          "name": "stdout",
          "text": [
            "Shape of the DataFrame after remove missing values: (1396, 10)\n"
          ]
        }
      ]
    },
    {
      "cell_type": "code",
      "source": [
        "# Remove any invalid number of outbreaks\n",
        "df = df[df['Number of outbreaks'].notnull()]\n",
        "\n",
        "print(\"Shape of the DataFrame after cleaning:\", df.shape)"
      ],
      "metadata": {
        "colab": {
          "base_uri": "https://localhost:8080/"
        },
        "id": "_rveYuEpPN1I",
        "outputId": "5335f4e4-f9f4-47a5-82ea-6a9473c9af93"
      },
      "execution_count": 11,
      "outputs": [
        {
          "output_type": "stream",
          "name": "stdout",
          "text": [
            "Shape of the DataFrame after cleaning: (1396, 10)\n"
          ]
        }
      ]
    },
    {
      "cell_type": "code",
      "source": [
        "# Feature Engineering: Time Features: Year, Month, Day\n",
        "df['Year'] = df['Start Date'].dt.year\n",
        "df['Month'] = df['Start Date'].dt.month\n",
        "df['Day'] = df['Start Date'].dt.day\n",
        "\n",
        "# Encode Categories (State and Disease Type)\n",
        "le_disease = LabelEncoder()\n",
        "le_state = LabelEncoder()\n",
        "\n",
        "df['Disease_Code'] = le_disease.fit_transform(df['Disease Type'])\n",
        "df['State_Code'] = le_state.fit_transform(df['State'])\n",
        "\n",
        "# Create an 'Outbreak Occurred' binary target (1 = outbreak reported)\n",
        "df['Outbreak'] = (df['Number of outbreaks'] > 0).astype(int)\n",
        "\n",
        "# Preview cleaned and feature-engineered data\n",
        "print(df.head())"
      ],
      "metadata": {
        "colab": {
          "base_uri": "https://localhost:8080/"
        },
        "id": "jvTcx-eSMoTo",
        "outputId": "e54c1a7d-6f17-4bc3-fb4e-c8c2bd0fcf77"
      },
      "execution_count": 12,
      "outputs": [
        {
          "output_type": "stream",
          "name": "stdout",
          "text": [
            "   Reference Administrative divisions  \\\n",
            "0  ob_150996                   Sepang   \n",
            "1  ob_150997                   Sepang   \n",
            "2  ob_150998             Kuala Langat   \n",
            "3  ob_151002                   Sepang   \n",
            "4  ob_151003             Kuala Langat   \n",
            "\n",
            "                                    Location Epidemiological unit  \\\n",
            "0                LOT 3336 SG BELANKAN (S443)                 Farm   \n",
            "1            LOT 3330 SUNGAI BELANKAN (S445)                 Farm   \n",
            "2          NO.4,LORONG KUIL KG.TUMBUK (SE20)                 Farm   \n",
            "3  LOT 1871 LDG TUMBUK 42800 TG SEPAT (SE50)                 Farm   \n",
            "4                 LOT 1871 LDG TUMBUK (S130)                 Farm   \n",
            "\n",
            "   Number of outbreaks Start Date End Date     State      Report  \\\n",
            "0                    1 2025-01-28      NaN  Selangor  EVENT 4158   \n",
            "1                    1 2025-02-04      NaN  Selangor  EVENT 4158   \n",
            "2                    1 2025-02-05      NaN  Selangor  EVENT 4158   \n",
            "3                    1 2025-02-07      NaN  Selangor  EVENT 4158   \n",
            "4                    1 2025-02-07      NaN  Selangor  EVENT 4158   \n",
            "\n",
            "                Disease Type  Year  Month  Day  Disease_Code  State_Code  \\\n",
            "0  African swine fever virus  2025      1   28             1          13   \n",
            "1  African swine fever virus  2025      2    4             1          13   \n",
            "2  African swine fever virus  2025      2    5             1          13   \n",
            "3  African swine fever virus  2025      2    7             1          13   \n",
            "4  African swine fever virus  2025      2    7             1          13   \n",
            "\n",
            "   Outbreak  \n",
            "0         1  \n",
            "1         1  \n",
            "2         1  \n",
            "3         1  \n",
            "4         1  \n"
          ]
        }
      ]
    },
    {
      "cell_type": "code",
      "metadata": {
        "colab": {
          "base_uri": "https://localhost:8080/",
          "height": 934
        },
        "id": "16a970b7",
        "outputId": "641c433c-2dd8-4e39-b4b9-2262c1810775"
      },
      "source": [
        "# SHow the total counts of the label encoding\n",
        "display(df['Disease_Code'].value_counts())\n",
        "display(df['State_Code'].value_counts())"
      ],
      "execution_count": 17,
      "outputs": [
        {
          "output_type": "display_data",
          "data": {
            "text/plain": [
              "Disease_Code\n",
              "6    831\n",
              "5    322\n",
              "1    186\n",
              "2     49\n",
              "7      4\n",
              "4      2\n",
              "0      1\n",
              "3      1\n",
              "Name: count, dtype: int64"
            ],
            "text/html": [
              "<div>\n",
              "<style scoped>\n",
              "    .dataframe tbody tr th:only-of-type {\n",
              "        vertical-align: middle;\n",
              "    }\n",
              "\n",
              "    .dataframe tbody tr th {\n",
              "        vertical-align: top;\n",
              "    }\n",
              "\n",
              "    .dataframe thead th {\n",
              "        text-align: right;\n",
              "    }\n",
              "</style>\n",
              "<table border=\"1\" class=\"dataframe\">\n",
              "  <thead>\n",
              "    <tr style=\"text-align: right;\">\n",
              "      <th></th>\n",
              "      <th>count</th>\n",
              "    </tr>\n",
              "    <tr>\n",
              "      <th>Disease_Code</th>\n",
              "      <th></th>\n",
              "    </tr>\n",
              "  </thead>\n",
              "  <tbody>\n",
              "    <tr>\n",
              "      <th>6</th>\n",
              "      <td>831</td>\n",
              "    </tr>\n",
              "    <tr>\n",
              "      <th>5</th>\n",
              "      <td>322</td>\n",
              "    </tr>\n",
              "    <tr>\n",
              "      <th>1</th>\n",
              "      <td>186</td>\n",
              "    </tr>\n",
              "    <tr>\n",
              "      <th>2</th>\n",
              "      <td>49</td>\n",
              "    </tr>\n",
              "    <tr>\n",
              "      <th>7</th>\n",
              "      <td>4</td>\n",
              "    </tr>\n",
              "    <tr>\n",
              "      <th>4</th>\n",
              "      <td>2</td>\n",
              "    </tr>\n",
              "    <tr>\n",
              "      <th>0</th>\n",
              "      <td>1</td>\n",
              "    </tr>\n",
              "    <tr>\n",
              "      <th>3</th>\n",
              "      <td>1</td>\n",
              "    </tr>\n",
              "  </tbody>\n",
              "</table>\n",
              "</div><br><label><b>dtype:</b> int64</label>"
            ]
          },
          "metadata": {}
        },
        {
          "output_type": "display_data",
          "data": {
            "text/plain": [
              "State_Code\n",
              "12    830\n",
              "7     106\n",
              "11     81\n",
              "4      71\n",
              "2      61\n",
              "6      46\n",
              "13     42\n",
              "5      37\n",
              "9      28\n",
              "10     28\n",
              "0      22\n",
              "1      21\n",
              "14     20\n",
              "3       2\n",
              "8       1\n",
              "Name: count, dtype: int64"
            ],
            "text/html": [
              "<div>\n",
              "<style scoped>\n",
              "    .dataframe tbody tr th:only-of-type {\n",
              "        vertical-align: middle;\n",
              "    }\n",
              "\n",
              "    .dataframe tbody tr th {\n",
              "        vertical-align: top;\n",
              "    }\n",
              "\n",
              "    .dataframe thead th {\n",
              "        text-align: right;\n",
              "    }\n",
              "</style>\n",
              "<table border=\"1\" class=\"dataframe\">\n",
              "  <thead>\n",
              "    <tr style=\"text-align: right;\">\n",
              "      <th></th>\n",
              "      <th>count</th>\n",
              "    </tr>\n",
              "    <tr>\n",
              "      <th>State_Code</th>\n",
              "      <th></th>\n",
              "    </tr>\n",
              "  </thead>\n",
              "  <tbody>\n",
              "    <tr>\n",
              "      <th>12</th>\n",
              "      <td>830</td>\n",
              "    </tr>\n",
              "    <tr>\n",
              "      <th>7</th>\n",
              "      <td>106</td>\n",
              "    </tr>\n",
              "    <tr>\n",
              "      <th>11</th>\n",
              "      <td>81</td>\n",
              "    </tr>\n",
              "    <tr>\n",
              "      <th>4</th>\n",
              "      <td>71</td>\n",
              "    </tr>\n",
              "    <tr>\n",
              "      <th>2</th>\n",
              "      <td>61</td>\n",
              "    </tr>\n",
              "    <tr>\n",
              "      <th>6</th>\n",
              "      <td>46</td>\n",
              "    </tr>\n",
              "    <tr>\n",
              "      <th>13</th>\n",
              "      <td>42</td>\n",
              "    </tr>\n",
              "    <tr>\n",
              "      <th>5</th>\n",
              "      <td>37</td>\n",
              "    </tr>\n",
              "    <tr>\n",
              "      <th>9</th>\n",
              "      <td>28</td>\n",
              "    </tr>\n",
              "    <tr>\n",
              "      <th>10</th>\n",
              "      <td>28</td>\n",
              "    </tr>\n",
              "    <tr>\n",
              "      <th>0</th>\n",
              "      <td>22</td>\n",
              "    </tr>\n",
              "    <tr>\n",
              "      <th>1</th>\n",
              "      <td>21</td>\n",
              "    </tr>\n",
              "    <tr>\n",
              "      <th>14</th>\n",
              "      <td>20</td>\n",
              "    </tr>\n",
              "    <tr>\n",
              "      <th>3</th>\n",
              "      <td>2</td>\n",
              "    </tr>\n",
              "    <tr>\n",
              "      <th>8</th>\n",
              "      <td>1</td>\n",
              "    </tr>\n",
              "  </tbody>\n",
              "</table>\n",
              "</div><br><label><b>dtype:</b> int64</label>"
            ]
          },
          "metadata": {}
        }
      ]
    },
    {
      "cell_type": "code",
      "source": [
        "# Mapping between the original label and label encoding\n",
        "print(dict(zip(le_state.classes_, le_state.transform(le_state.classes_))))\n",
        "print(dict(zip(le_disease.classes_, le_disease.transform(le_disease.classes_))))"
      ],
      "metadata": {
        "colab": {
          "base_uri": "https://localhost:8080/"
        },
        "id": "cdJKAsSdWop7",
        "outputId": "33471acb-f460-4c75-ca7c-b502c4cc06bf"
      },
      "execution_count": 18,
      "outputs": [
        {
          "output_type": "stream",
          "name": "stdout",
          "text": [
            "{'Johor': np.int64(0), 'Kedah': np.int64(1), 'Kelantan': np.int64(2), 'Kuala Lumpur': np.int64(3), 'Melaka': np.int64(4), 'Negeri Sembilan': np.int64(5), 'Pahang': np.int64(6), 'Perak': np.int64(7), 'Perak ': np.int64(8), 'Perlis': np.int64(9), 'Pulau Pinang': np.int64(10), 'Sabah': np.int64(11), 'Sarawak': np.int64(12), 'Selangor': np.int64(13), 'Terengganu': np.int64(14)}\n",
            "{'African horse sickness virus': np.int64(0), 'African swine fever virus': np.int64(1), 'Highly pathogenic avian influenza virus': np.int64(2), 'Infectious myonecrosis virus': np.int64(3), 'Influenza A virus': np.int64(4), 'Lumpy skin disease virus': np.int64(5), 'Rabies virus': np.int64(6), 'Tilapia lake virus': np.int64(7)}\n"
          ]
        }
      ]
    },
    {
      "cell_type": "code",
      "source": [
        "# Save the cleaned dataset to a new CSV file\n",
        "df.to_csv('cleaned_animal_disease_data.csv', index=False, encoding='utf-8-sig')"
      ],
      "metadata": {
        "id": "yBS7-P3NZGI-"
      },
      "execution_count": 19,
      "outputs": []
    },
    {
      "cell_type": "markdown",
      "source": [
        "### Data Training"
      ],
      "metadata": {
        "id": "Sg2axXjiY2im"
      }
    },
    {
      "cell_type": "code",
      "source": [
        "import pandas as pd\n",
        "\n",
        "# Load the cleaned dataset\n",
        "df = pd.read_csv('cleaned_animal_disease_data.csv')\n",
        "\n",
        "# Sort data chronologically (important for time-based prediction)\n",
        "df = df.sort_values(by='Start Date').reset_index(drop=True)\n",
        "\n",
        "print(df.head())"
      ],
      "metadata": {
        "colab": {
          "base_uri": "https://localhost:8080/"
        },
        "id": "BwzxlJyQY3v7",
        "outputId": "75f8156f-4689-4a49-d636-5d13ba48a297"
      },
      "execution_count": 21,
      "outputs": [
        {
          "output_type": "stream",
          "name": "stdout",
          "text": [
            "  Reference Administrative divisions          Location Epidemiological unit  \\\n",
            "0      7433             Kuala Lumpur  Pasir Wardieburn              Village   \n",
            "1      7434                    Perak  Changkat Tualang              Village   \n",
            "2      7435                    Perak       Bukit Merah              Village   \n",
            "3      7437             Pulau Pinang   Permatang Bogak              Village   \n",
            "4      7436                    Perak      Titi Gantung              Village   \n",
            "\n",
            "   Number of outbreaks  Start Date   End Date         State     Report  \\\n",
            "0                    1  2006-02-06  22/3/2006  Kuala Lumpur  EVENT 120   \n",
            "1                    1  2006-03-11  22/3/2006         Perak  EVENT 120   \n",
            "2                    1  2006-03-16  22/3/2006         Perak  EVENT 120   \n",
            "3                    1  2006-03-18  22/3/2006  Pulau Pinang  EVENT 120   \n",
            "4                    1  2006-03-21  22/3/2006         Perak  EVENT 120   \n",
            "\n",
            "                              Disease Type  Year  Month  Day  Disease_Code  \\\n",
            "0  Highly pathogenic avian influenza virus  2006      2    6             2   \n",
            "1  Highly pathogenic avian influenza virus  2006      3   11             2   \n",
            "2  Highly pathogenic avian influenza virus  2006      3   16             2   \n",
            "3  Highly pathogenic avian influenza virus  2006      3   18             2   \n",
            "4  Highly pathogenic avian influenza virus  2006      3   21             2   \n",
            "\n",
            "   State_Code  Outbreak  \n",
            "0           3         1  \n",
            "1           7         1  \n",
            "2           7         1  \n",
            "3          10         1  \n",
            "4           7         1  \n"
          ]
        }
      ]
    },
    {
      "cell_type": "code",
      "source": [
        "feature_cols = ['State_Code', 'Disease_Code', 'Year', 'Month', 'Day']\n",
        "X = df[feature_cols].values\n",
        "y = df['Outbreak'].values\n",
        "\n",
        "print(\"✅ Feature shape:\", X.shape)\n",
        "print(\"✅ Target shape:\", y.shape)"
      ],
      "metadata": {
        "colab": {
          "base_uri": "https://localhost:8080/"
        },
        "id": "pbScglUxcwuk",
        "outputId": "fbdb7ac8-3d44-4fcf-9428-76a9a0b81f91"
      },
      "execution_count": 23,
      "outputs": [
        {
          "output_type": "stream",
          "name": "stdout",
          "text": [
            "✅ Feature shape: (1396, 5)\n",
            "✅ Target shape: (1396,)\n"
          ]
        }
      ]
    },
    {
      "cell_type": "code",
      "source": [
        "# Create Sequences for Transformer (Sliding Window)\n",
        "import numpy as np\n",
        "\n",
        "# Define sequence length (e.g., 3 months)\n",
        "sequence_length = 3\n",
        "\n",
        "X_seq = []\n",
        "y_seq = []\n",
        "\n",
        "# Create sliding windows\n",
        "for i in range(len(X) - sequence_length):\n",
        "    X_seq.append(X[i:i+sequence_length])\n",
        "    y_seq.append(y[i+sequence_length])  # predict next time step\n",
        "\n",
        "X_seq = np.array(X_seq)\n",
        "y_seq = np.array(y_seq)\n",
        "\n",
        "print(\"✅ Sequence shape:\", X_seq.shape)  # (samples, time_steps, features)\n",
        "print(\"✅ Target shape:\", y_seq.shape)\n"
      ],
      "metadata": {
        "colab": {
          "base_uri": "https://localhost:8080/"
        },
        "id": "2vXzEMGAdKFu",
        "outputId": "c83fcf9b-c63a-4da7-fe0f-eb2329728ce2"
      },
      "execution_count": 24,
      "outputs": [
        {
          "output_type": "stream",
          "name": "stdout",
          "text": [
            "✅ Sequence shape: (1393, 3, 5)\n",
            "✅ Target shape: (1393,)\n"
          ]
        }
      ]
    },
    {
      "cell_type": "code",
      "source": [
        "train_size = int(0.8 * len(X_seq))\n",
        "\n",
        "X_train, X_test = X_seq[:train_size], X_seq[train_size:]\n",
        "y_train, y_test = y_seq[:train_size], y_seq[train_size:]\n",
        "\n",
        "print(f\"✅ Training samples: {X_train.shape[0]}\")\n",
        "print(f\"✅ Testing samples: {X_test.shape[0]}\")\n"
      ],
      "metadata": {
        "colab": {
          "base_uri": "https://localhost:8080/"
        },
        "id": "kdqsc6ODdTpT",
        "outputId": "9688c2eb-4220-4b44-b6e6-fe10582f7e80"
      },
      "execution_count": 25,
      "outputs": [
        {
          "output_type": "stream",
          "name": "stdout",
          "text": [
            "✅ Training samples: 1114\n",
            "✅ Testing samples: 279\n"
          ]
        }
      ]
    },
    {
      "cell_type": "code",
      "source": [
        "# Transformer Model Setup\n",
        "import torch\n",
        "import torch.nn as nn\n",
        "import torch.optim as optim\n",
        "from torch.utils.data import TensorDataset, DataLoader\n",
        "\n",
        "device = torch.device(\"cuda\" if torch.cuda.is_available() else \"cpu\")\n",
        "\n",
        "# Model Parameters\n",
        "input_dim = X_train.shape[2]\n",
        "d_model = 64\n",
        "nhead = 4\n",
        "num_layers = 2\n",
        "sequence_length = X_train.shape[1]\n",
        "\n",
        "# defines the neural network model\n",
        "class OutbreakTransformer(nn.Module):\n",
        "    def __init__(self):\n",
        "        super(OutbreakTransformer, self).__init__()\n",
        "        self.embedding = nn.Linear(input_dim, d_model)\n",
        "        encoder_layer = nn.TransformerEncoderLayer(d_model=d_model, nhead=nhead, batch_first=True)\n",
        "        self.transformer = nn.TransformerEncoder(encoder_layer, num_layers=num_layers)\n",
        "        self.fc_out = nn.Linear(d_model * sequence_length, 1)\n",
        "        self.sigmoid = nn.Sigmoid()\n",
        "\n",
        "    def forward(self, x):\n",
        "        x = self.embedding(x)\n",
        "        x = self.transformer(x)\n",
        "        x = x.reshape(x.size(0), -1)\n",
        "        x = self.fc_out(x)\n",
        "        return self.sigmoid(x)\n",
        "\n",
        "model = OutbreakTransformer().to(device)\n"
      ],
      "metadata": {
        "id": "7573k6yRnqhK"
      },
      "execution_count": 26,
      "outputs": []
    },
    {
      "cell_type": "code",
      "source": [
        "# Prepare data for PyTorch\n",
        "# Convert to tensors\n",
        "X_train_tensor = torch.tensor(X_train, dtype=torch.float32).to(device)\n",
        "y_train_tensor = torch.tensor(y_train, dtype=torch.float32).unsqueeze(1).to(device)\n",
        "\n",
        "X_test_tensor = torch.tensor(X_test, dtype=torch.float32).to(device)\n",
        "y_test_tensor = torch.tensor(y_test, dtype=torch.float32).unsqueeze(1).to(device)\n",
        "\n",
        "# DataLoader\n",
        "train_dataset = TensorDataset(X_train_tensor, y_train_tensor)\n",
        "train_loader = DataLoader(train_dataset, batch_size=16, shuffle=True)\n"
      ],
      "metadata": {
        "id": "9_lhjacfnrkB"
      },
      "execution_count": 27,
      "outputs": []
    },
    {
      "cell_type": "code",
      "source": [
        "# Training Loop\n",
        "criterion = nn.BCELoss()\n",
        "optimizer = optim.Adam(model.parameters(), lr=0.001)\n",
        "\n",
        "num_epochs = 10\n",
        "\n",
        "for epoch in range(num_epochs):\n",
        "    model.train()\n",
        "    total_loss = 0\n",
        "    for X_batch, y_batch in train_loader:\n",
        "        optimizer.zero_grad()\n",
        "        outputs = model(X_batch)\n",
        "        loss = criterion(outputs, y_batch)\n",
        "        loss.backward()\n",
        "        optimizer.step()\n",
        "        total_loss += loss.item()\n",
        "\n",
        "    print(f\"Epoch {epoch+1}/{num_epochs} - Loss: {total_loss/len(train_loader):.4f}\")\n"
      ],
      "metadata": {
        "colab": {
          "base_uri": "https://localhost:8080/"
        },
        "id": "DTiF-k3TnwLj",
        "outputId": "4a93b816-dea4-49c2-90f7-b767efa26181"
      },
      "execution_count": 28,
      "outputs": [
        {
          "output_type": "stream",
          "name": "stdout",
          "text": [
            "Epoch 1/10 - Loss: 0.0310\n",
            "Epoch 2/10 - Loss: 0.0018\n",
            "Epoch 3/10 - Loss: 0.0007\n",
            "Epoch 4/10 - Loss: 0.0004\n",
            "Epoch 5/10 - Loss: 0.0003\n",
            "Epoch 6/10 - Loss: 0.0002\n",
            "Epoch 7/10 - Loss: 0.0001\n",
            "Epoch 8/10 - Loss: 0.0001\n",
            "Epoch 9/10 - Loss: 0.0001\n",
            "Epoch 10/10 - Loss: 0.0001\n"
          ]
        }
      ]
    },
    {
      "cell_type": "code",
      "source": [
        "# Predictions & Results\n",
        "model.eval()\n",
        "with torch.no_grad():\n",
        "    outputs = model(X_test_tensor).cpu().numpy()\n",
        "    preds_binary = (outputs > 0.5).astype(int)\n",
        "\n",
        "# Print 5 example predictions\n",
        "for i in range(5):\n",
        "    print(f\"📍 State Code: {X_test[i, -1, 0]}\")\n",
        "    print(f\"🚨 Predicted Outbreak: {preds_binary[i][0]} | True: {int(y_test[i])}\")\n",
        "    print(\"-\" * 40)\n"
      ],
      "metadata": {
        "colab": {
          "base_uri": "https://localhost:8080/"
        },
        "id": "QygGh_hjnzdV",
        "outputId": "68b027a0-aff6-4356-e678-74e3e20f7c2a"
      },
      "execution_count": 33,
      "outputs": [
        {
          "output_type": "stream",
          "name": "stdout",
          "text": [
            "📍 State Code: 5\n",
            "🚨 Predicted Outbreak: 1 | True: 1\n",
            "----------------------------------------\n",
            "📍 State Code: 4\n",
            "🚨 Predicted Outbreak: 1 | True: 1\n",
            "----------------------------------------\n",
            "📍 State Code: 4\n",
            "🚨 Predicted Outbreak: 1 | True: 1\n",
            "----------------------------------------\n",
            "📍 State Code: 12\n",
            "🚨 Predicted Outbreak: 1 | True: 1\n",
            "----------------------------------------\n",
            "📍 State Code: 13\n",
            "🚨 Predicted Outbreak: 1 | True: 1\n",
            "----------------------------------------\n"
          ]
        }
      ]
    },
    {
      "cell_type": "markdown",
      "source": [
        "**Notes:**\n",
        "\n",
        "Currently have some issue in prediction, as our dataset is too small and not enough data for it to predict.\n",
        "\n",
        "Then another reason will be since our number of outbreaks for the location is always 1, so it will alway predict true as it does not have 0."
      ],
      "metadata": {
        "id": "yCO_kBBKptwE"
      }
    }
  ]
}